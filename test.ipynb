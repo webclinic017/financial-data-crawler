{
 "cells": [
  {
   "cell_type": "code",
   "execution_count": 1,
   "id": "bb8116ed",
   "metadata": {},
   "outputs": [],
   "source": [
    "import requests as rq\n",
    "from bs4 import BeautifulSoup\n",
    "\n",
    "url = \"https://www.cnbc.com/economy/\""
   ]
  },
  {
   "cell_type": "code",
   "execution_count": 6,
   "id": "10d8b915",
   "metadata": {},
   "outputs": [
    {
     "data": {
      "text/plain": [
       "['The war against inflation is a long way away from being won',\n",
       " 'June wholesale prices rise less than expected',\n",
       " 'Strategist David Roche says the global economy will avoid a recession',\n",
       " 'Inflation rose just 0.2% in June, less than expected ',\n",
       " \"This is 'the end of the beginning' of the battle against inflation, economist says\",\n",
       " \"Biden advisor defends stimulus and inflation surge, says pandemic was 'real cause'\",\n",
       " \"Fed's Goolsbee sees 'golden path' to lower inflation without a recession\",\n",
       " 'The unemployment rate among Black workers increased in June',\n",
       " 'Payrolls rose by 209,000 in June, less than expected, as jobs growth wobbles',\n",
       " 'Payrolls report Friday likely to show a jobs market that is still hot',\n",
       " 'Private sector adds 497,000 jobs in June, more than double expectations, ADP says',\n",
       " 'UK economic woes set government and central bank on a collision course',\n",
       " 'LGBTQ small business owners struggle to find financing',\n",
       " 'Key Fed inflation measure shows prices rose 0.3% in May',\n",
       " 'First-quarter economic growth was actually 2%, up from 1.3% first reported in major GDP revision',\n",
       " 'A U.S. recession is coming this year, HSBC AM warns — with Europe to follow in 2024',\n",
       " \"Markets are pricing in rate cuts too soon, IMF's Gopinath says\",\n",
       " \"Corporate defaults and bankruptcies are surging – here's why\",\n",
       " 'European business activity slows as higher interest rates begin to bite',\n",
       " \"Bank of England's conundrum deepens as inflation and labor market stay hot\",\n",
       " 'This investment manager is looking to bridge the racial wealth gap',\n",
       " 'Brits are facing a major mortgage crisis as lending rates soar',\n",
       " \"Rate cuts, hikes and pauses: The world's central banks are diverging in a big way\",\n",
       " 'Inflation rose at a 4% annual rate in May, the lowest in 2 years',\n",
       " \"UK short-term borrowing costs shoot past 'mini-budget' crisis levels on strong labor data\",\n",
       " 'Inflation report Tuesday will be critical for the direction of Fed policy',\n",
       " 'Inflation outlook hits two-year low in latest New York Fed survey',\n",
       " 'Jobless claims increase more than expected to their highest since October 2021',\n",
       " 'Euro zone enters recession after Germany, Ireland growth revision',\n",
       " 'Major economies face slower growth amid high rates, bank stress: World Bank  ',\n",
       " 'Unemployment dropped among Hispanic men and women in May',\n",
       " 'Here’s where the jobs are for May 2023 — in one chart',\n",
       " 'Payrolls rose 339,000 in May, much better than expected in resilient labor market',\n",
       " \"Here's what to watch out for in Friday's jobs report for May\"]"
      ]
     },
     "execution_count": 6,
     "metadata": {},
     "output_type": "execute_result"
    }
   ],
   "source": [
    "news = rq.get(url)\n",
    "html = BeautifulSoup(news.content)\n",
    "# print(html)\n",
    "\n",
    "title_div = html.find_all(\"a\", class_=\"Card-title\")\n",
    "select = html.select(\"a.Card-title\")\n",
    "[i.text for i in select]"
   ]
  },
  {
   "cell_type": "code",
   "execution_count": 1,
   "id": "9a6eef0a",
   "metadata": {},
   "outputs": [],
   "source": [
    "from selenium import webdriver\n",
    "from selenium.webdriver.chrome.service import Service\n",
    "from webdriver_manager.chrome import ChromeDriverManager\n",
    "from selenium.webdriver.common.by import By\n",
    "from selenium.webdriver.common.keys import Keys\n",
    "import time\n",
    "from bs4 import BeautifulSoup\n",
    "\n",
    "\n",
    "driver = webdriver.Chrome(\n",
    "    service=Service(ChromeDriverManager().install())\n",
    ")  # using python codes to manipulate Chrome browser\n",
    "# driver = webdriver.Chrome(ChromeDriverManager().install())\n",
    "\n",
    "\n",
    "url = \"https://www.naver.com\"\n",
    "driver.get(url)"
   ]
  },
  {
   "cell_type": "code",
   "execution_count": 3,
   "id": "24bd588d",
   "metadata": {},
   "outputs": [],
   "source": [
    "driver.find_element(By.LINK_TEXT, value='뉴스').click() # click element\n"
   ]
  },
  {
   "cell_type": "code",
   "execution_count": 4,
   "id": "c7a24a56",
   "metadata": {},
   "outputs": [],
   "source": [
    "driver.back() # back"
   ]
  },
  {
   "cell_type": "code",
   "execution_count": null,
   "id": "ef3fadd9",
   "metadata": {},
   "outputs": [],
   "source": []
  }
 ],
 "metadata": {
  "kernelspec": {
   "display_name": "Python 3 (ipykernel)",
   "language": "python",
   "name": "python3"
  },
  "language_info": {
   "codemirror_mode": {
    "name": "ipython",
    "version": 3
   },
   "file_extension": ".py",
   "mimetype": "text/x-python",
   "name": "python",
   "nbconvert_exporter": "python",
   "pygments_lexer": "ipython3",
   "version": "3.9.16"
  }
 },
 "nbformat": 4,
 "nbformat_minor": 5
}
